{
 "cells": [
  {
   "metadata": {},
   "cell_type": "markdown",
   "source": "### creating the email forwarding for marketing ",
   "id": "33fb231f9c5ee6fa"
  },
  {
   "metadata": {
    "ExecuteTime": {
     "end_time": "2024-10-04T06:27:17.640595Z",
     "start_time": "2024-10-04T06:27:17.605030Z"
    }
   },
   "cell_type": "code",
   "source": [
    "def send_email(num_visits,visits_email):\n",
    "    if(num_visits >= visits_email):\n",
    "        print(\"Send Email\")\n",
    "    else:\n",
    "        print(\"Not send Email\")\n",
    "        \n",
    "send_email(num_visits=3, visits_email=5)    # Should print 'Not enough visits.'\n",
    "send_email(num_visits=5, visits_email=5)    # Should print 'Send email.'\n",
    "send_email(num_visits=15, visits_email=10)  # Should print 'Send email.'"
   ],
   "id": "1f371bc6a1696147",
   "outputs": [
    {
     "name": "stdout",
     "output_type": "stream",
     "text": [
      "Not send Email\n",
      "Send Email\n",
      "Send Email\n"
     ]
    }
   ],
   "execution_count": 3
  },
  {
   "metadata": {
    "ExecuteTime": {
     "end_time": "2024-10-04T06:42:43.533182Z",
     "start_time": "2024-10-04T06:42:43.528639Z"
    }
   },
   "cell_type": "code",
   "source": [
    "def send_email(num_visits,visits_email,visits_coupon):\n",
    "    if(num_visits >= visits_coupon):\n",
    "        print(\"Send Email with coupon.\")\n",
    "    elif(num_visits >= visits_email):\n",
    "        print(\"Send email only.\")\n",
    "    else:\n",
    "        print(\"Not send Email\")"
   ],
   "id": "841f6efea5c262b6",
   "outputs": [],
   "execution_count": 9
  },
  {
   "metadata": {
    "ExecuteTime": {
     "end_time": "2024-10-04T06:42:45.523635Z",
     "start_time": "2024-10-04T06:42:45.504197Z"
    }
   },
   "cell_type": "code",
   "source": [
    "send_email(num_visits=3, visits_email=5, visits_coupon=8)   # Should print 'Not enough visits.'\n",
    "send_email(num_visits=5, visits_email=5, visits_coupon=8)   # Should print 'Send email only.'\n",
    "send_email(num_visits=6, visits_email=5, visits_coupon=8)   # Should print 'Send email only.'\n",
    "send_email(num_visits=8, visits_email=5, visits_coupon=8)   # Should print 'Send email with coupon.'\n",
    "send_email(num_visits=10, visits_email=5, visits_coupon=8)  # Should print 'Send email with coupon.'"
   ],
   "id": "f1b1628ed94eda3d",
   "outputs": [
    {
     "name": "stdout",
     "output_type": "stream",
     "text": [
      "Not send Email\n",
      "Send email only.\n",
      "Send email only.\n",
      "Send Email with coupon.\n",
      "Send Email with coupon.\n"
     ]
    }
   ],
   "execution_count": 10
  },
  {
   "metadata": {},
   "cell_type": "code",
   "outputs": [],
   "execution_count": null,
   "source": "",
   "id": "aa4f7a127f0ad346"
  }
 ],
 "metadata": {
  "kernelspec": {
   "display_name": "Python 3",
   "language": "python",
   "name": "python3"
  },
  "language_info": {
   "codemirror_mode": {
    "name": "ipython",
    "version": 2
   },
   "file_extension": ".py",
   "mimetype": "text/x-python",
   "name": "python",
   "nbconvert_exporter": "python",
   "pygments_lexer": "ipython2",
   "version": "2.7.6"
  }
 },
 "nbformat": 4,
 "nbformat_minor": 5
}
