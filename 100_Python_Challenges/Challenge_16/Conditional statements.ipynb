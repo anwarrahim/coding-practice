{
 "cells": [
  {
   "metadata": {},
   "cell_type": "markdown",
   "source": "### creating the email forwarding for marketing ",
   "id": "33fb231f9c5ee6fa"
  },
  {
   "metadata": {},
   "cell_type": "code",
   "outputs": [],
   "execution_count": null,
   "source": [
    "def send_email(num_visits,visits_email):\n",
    "    if(num_visits >= visits_email):\n",
    "        print(\"Send Email\")\n",
    "    else:\n",
    "        print(\"Not send Email\")\n",
    "        \n",
    "send_email(num_visits=3, visits_email=5)    # Should print 'Not enough visits.'\n",
    "send_email(num_visits=5, visits_email=5)    # Should print 'Send email.'\n",
    "send_email(num_visits=15, visits_email=10)  # Should print 'Send email.'"
   ],
   "id": "1f371bc6a1696147"
  }
 ],
 "metadata": {
  "kernelspec": {
   "display_name": "Python 3",
   "language": "python",
   "name": "python3"
  },
  "language_info": {
   "codemirror_mode": {
    "name": "ipython",
    "version": 2
   },
   "file_extension": ".py",
   "mimetype": "text/x-python",
   "name": "python",
   "nbconvert_exporter": "python",
   "pygments_lexer": "ipython2",
   "version": "2.7.6"
  }
 },
 "nbformat": 4,
 "nbformat_minor": 5
}
